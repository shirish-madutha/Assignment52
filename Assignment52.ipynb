{
 "cells": [
  {
   "cell_type": "code",
   "execution_count": null,
   "id": "9f2f7be7-1a1b-4b32-9add-342c1a956183",
   "metadata": {},
   "outputs": [],
   "source": [
    "\"\"\" Q2. You have built an SVM regression model and are trying to decide between using MSE or R-squared as your evaluation metric. Which metric would be more appropriate if your goal is to predict the actual price of a house as accurately as possible?\n",
    "\n",
    "In the context of predicting the actual price of a house, Mean Squared Error (MSE) would be the more appropriate evaluation metric if your goal is to predict the price as accurately as possible. MSE measures the average squared difference between the predicted and actual prices, and it penalizes larger prediction errors more heavily. In the case of house price prediction, accuracy in terms of minimizing prediction errors is crucial. A lower MSE indicates a model that provides more accurate predictions in terms of the actual price.\n",
    "\n",
    "\"\"\"\n",
    "\n",
    "# ans\n",
    "\"\"\" In the context of predicting the actual price of a house, Mean Squared Error (MSE) would be the more appropriate evaluation metric if your goal is to predict the price as accurately as possible. MSE measures the average squared difference between the predicted and actual prices, and it penalizes larger prediction errors more heavily. In the case of house price prediction, accuracy in terms of minimizing prediction errors is crucial. A lower MSE indicates a model that provides more accurate predictions in terms of the actual price.\n",
    "\n",
    " \"\"\""
   ]
  },
  {
   "cell_type": "code",
   "execution_count": null,
   "id": "36e1dfb4-4ebd-4a0d-b606-1d213b1a4969",
   "metadata": {},
   "outputs": [],
   "source": [
    "\"\"\" Q3. You have a dataset with a significant number of outliers and are trying to select an appropriate regression metric to use with your SVM model. Which metric would be the most appropriate in this scenario?\n",
    "\n",
    "When dealing with a dataset that has a significant number of outliers, it's often more appropriate to use the Mean Absolute Error (MAE) as the regression metric. MAE is less sensitive to outliers compared to Mean Squared Error (MSE) because it calculates the absolute differences between predicted and actual values. Outliers have a smaller impact on MAE since their squared differences, as in MSE, don't get amplified. Therefore, MAE is a robust choice when you want a metric that is less influenced by outliers.\n",
    "\n",
    "\"\"\"\n",
    "\n",
    "# ans\n",
    "\"\"\" When dealing with a dataset that has a significant number of outliers, it's often more appropriate to use the Mean Absolute Error (MAE) as the regression metric. MAE is less sensitive to outliers compared to Mean Squared Error (MSE) because it calculates the absolute differences between predicted and actual values. Outliers have a smaller impact on MAE since their squared differences, as in MSE, don't get amplified. Therefore, MAE is a robust choice when you want a metric that is less influenced by outliers. \"\"\""
   ]
  },
  {
   "cell_type": "code",
   "execution_count": null,
   "id": "c9fad7ee-2a77-43e8-a096-72f009c283f2",
   "metadata": {},
   "outputs": [],
   "source": [
    "\"\"\" Q4. You have built an SVM regression model using a polynomial kernel and are trying to select the best metric to evaluate its performance. You have calculated both MSE and RMSE and found that both values are very close. Which metric should you choose to use in this case?\n",
    "\n",
    "If you have built an SVM regression model using a polynomial kernel, and the calculated Mean Squared Error (MSE) and Root Mean Squared Error (RMSE) are very close, it is often more practical to use RMSE as the evaluation metric. RMSE is similar to MSE but provides the advantage of having the same unit of measurement as the target variable, making it easier to interpret and communicate. RMSE also gives more weight to larger errors, which can be useful if you want to focus on the significance of the prediction errors. In practice, RMSE is commonly used as it provides a clear understanding of the average prediction error in the same units as the target variable.\n",
    "\n",
    " \"\"\"\n",
    "\n",
    "# ans\n",
    "\"\"\" If you have built an SVM regression model using a polynomial kernel, and the calculated Mean Squared Error (MSE) and Root Mean Squared Error (RMSE) are very close, it is often more practical to use RMSE as the evaluation metric. RMSE is similar to MSE but provides the advantage of having the same unit of measurement as the target variable, making it easier to interpret and communicate. RMSE also gives more weight to larger errors, which can be useful if you want to focus on the significance of the prediction errors. In practice, RMSE is commonly used as it provides a clear understanding of the average prediction error in the same units as the target variable. \"\"\""
   ]
  },
  {
   "cell_type": "code",
   "execution_count": null,
   "id": "c72455ad-e788-4a4b-930f-a8283ba3a876",
   "metadata": {},
   "outputs": [],
   "source": [
    "\"\"\" Q5. You are comparing the performance of different SVM regression models using different kernels (linear, polynomial, and RBF) and are trying to select the best evaluation metric. Which metric would be most appropriate if your goal is to measure how well the model explains the variance in the target variable?\n",
    "\n",
    "If your goal is to measure how well the model explains the variance in the target variable, the most appropriate evaluation metric is the coefficient of determination, commonly known as R-squared (R^2). R-squared quantifies the proportion of the variance in the target variable that is explained by the model. It provides an indication of how well the model fits the data, with values ranging from 0 to 1.\n",
    "\n",
    "In the context of SVM regression models with different kernels, comparing their R-squared values would help you determine which kernel provides the best explanation of the variance in the target variable. A higher R-squared value indicates a better fit of the model to the data and a stronger ability to explain variance.\n",
    "\n",
    "\"\"\"\n",
    "\n",
    "# ans\n",
    "\"\"\" If your goal is to measure how well the model explains the variance in the target variable, the most appropriate evaluation metric is the coefficient of determination, commonly known as R-squared (R^2). R-squared quantifies the proportion of the variance in the target variable that is explained by the model. It provides an indication of how well the model fits the data, with values ranging from 0 to 1.\n",
    "\n",
    "In the context of SVM regression models with different kernels, comparing their R-squared values would help you determine which kernel provides the best explanation of the variance in the target variable. A higher R-squared value indicates a better fit of the model to the data and a stronger ability to explain variance. \"\"\""
   ]
  }
 ],
 "metadata": {
  "kernelspec": {
   "display_name": "Python 3 (ipykernel)",
   "language": "python",
   "name": "python3"
  },
  "language_info": {
   "codemirror_mode": {
    "name": "ipython",
    "version": 3
   },
   "file_extension": ".py",
   "mimetype": "text/x-python",
   "name": "python",
   "nbconvert_exporter": "python",
   "pygments_lexer": "ipython3",
   "version": "3.10.8"
  }
 },
 "nbformat": 4,
 "nbformat_minor": 5
}
